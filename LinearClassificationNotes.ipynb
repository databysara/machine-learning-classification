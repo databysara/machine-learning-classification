{
 "cells": [
  {
   "cell_type": "markdown",
   "metadata": {},
   "source": [
    "# Linear Classification"
   ]
  },
  {
   "cell_type": "markdown",
   "metadata": {},
   "source": [
    "Let us pick up from where we have left off. "
   ]
  },
  {
   "cell_type": "code",
   "execution_count": 1,
   "metadata": {},
   "outputs": [],
   "source": [
    "import numpy as np\n",
    "import pandas as pd\n",
    "from matplotlib import pyplot as plt\n",
    "import seaborn as sns"
   ]
  },
  {
   "cell_type": "code",
   "execution_count": 3,
   "metadata": {
    "scrolled": false
   },
   "outputs": [
    {
     "data": {
      "text/html": [
       "<div>\n",
       "<style scoped>\n",
       "    .dataframe tbody tr th:only-of-type {\n",
       "        vertical-align: middle;\n",
       "    }\n",
       "\n",
       "    .dataframe tbody tr th {\n",
       "        vertical-align: top;\n",
       "    }\n",
       "\n",
       "    .dataframe thead th {\n",
       "        text-align: right;\n",
       "    }\n",
       "</style>\n",
       "<table border=\"1\" class=\"dataframe\">\n",
       "  <thead>\n",
       "    <tr style=\"text-align: right;\">\n",
       "      <th></th>\n",
       "      <th>blood_pressure</th>\n",
       "      <th>lung_capacity</th>\n",
       "      <th>body_temperature</th>\n",
       "      <th>has_covid</th>\n",
       "    </tr>\n",
       "  </thead>\n",
       "  <tbody>\n",
       "    <tr>\n",
       "      <th>0</th>\n",
       "      <td>132.894691</td>\n",
       "      <td>6.931665</td>\n",
       "      <td>39.270112</td>\n",
       "      <td>0</td>\n",
       "    </tr>\n",
       "    <tr>\n",
       "      <th>1</th>\n",
       "      <td>117.128239</td>\n",
       "      <td>6.715135</td>\n",
       "      <td>37.005833</td>\n",
       "      <td>1</td>\n",
       "    </tr>\n",
       "    <tr>\n",
       "      <th>2</th>\n",
       "      <td>108.982006</td>\n",
       "      <td>6.580677</td>\n",
       "      <td>38.079465</td>\n",
       "      <td>0</td>\n",
       "    </tr>\n",
       "    <tr>\n",
       "      <th>3</th>\n",
       "      <td>112.337762</td>\n",
       "      <td>5.482720</td>\n",
       "      <td>37.662576</td>\n",
       "      <td>0</td>\n",
       "    </tr>\n",
       "    <tr>\n",
       "      <th>4</th>\n",
       "      <td>113.165263</td>\n",
       "      <td>6.664360</td>\n",
       "      <td>36.922810</td>\n",
       "      <td>1</td>\n",
       "    </tr>\n",
       "    <tr>\n",
       "      <th>...</th>\n",
       "      <td>...</td>\n",
       "      <td>...</td>\n",
       "      <td>...</td>\n",
       "      <td>...</td>\n",
       "    </tr>\n",
       "    <tr>\n",
       "      <th>995</th>\n",
       "      <td>116.208860</td>\n",
       "      <td>7.408413</td>\n",
       "      <td>37.088040</td>\n",
       "      <td>0</td>\n",
       "    </tr>\n",
       "    <tr>\n",
       "      <th>996</th>\n",
       "      <td>108.632769</td>\n",
       "      <td>6.854598</td>\n",
       "      <td>36.226869</td>\n",
       "      <td>1</td>\n",
       "    </tr>\n",
       "    <tr>\n",
       "      <th>997</th>\n",
       "      <td>137.732933</td>\n",
       "      <td>3.548004</td>\n",
       "      <td>35.543415</td>\n",
       "      <td>0</td>\n",
       "    </tr>\n",
       "    <tr>\n",
       "      <th>998</th>\n",
       "      <td>108.552490</td>\n",
       "      <td>2.931925</td>\n",
       "      <td>37.007822</td>\n",
       "      <td>0</td>\n",
       "    </tr>\n",
       "    <tr>\n",
       "      <th>999</th>\n",
       "      <td>122.614886</td>\n",
       "      <td>7.499205</td>\n",
       "      <td>35.977492</td>\n",
       "      <td>1</td>\n",
       "    </tr>\n",
       "  </tbody>\n",
       "</table>\n",
       "<p>1000 rows × 4 columns</p>\n",
       "</div>"
      ],
      "text/plain": [
       "     blood_pressure  lung_capacity  body_temperature  has_covid\n",
       "0        132.894691       6.931665         39.270112          0\n",
       "1        117.128239       6.715135         37.005833          1\n",
       "2        108.982006       6.580677         38.079465          0\n",
       "3        112.337762       5.482720         37.662576          0\n",
       "4        113.165263       6.664360         36.922810          1\n",
       "..              ...            ...               ...        ...\n",
       "995      116.208860       7.408413         37.088040          0\n",
       "996      108.632769       6.854598         36.226869          1\n",
       "997      137.732933       3.548004         35.543415          0\n",
       "998      108.552490       2.931925         37.007822          0\n",
       "999      122.614886       7.499205         35.977492          1\n",
       "\n",
       "[1000 rows x 4 columns]"
      ]
     },
     "execution_count": 3,
     "metadata": {},
     "output_type": "execute_result"
    }
   ],
   "source": [
    "dataset = pd.read_csv(\"data/synth_covid.csv\")\n",
    "dataset"
   ]
  },
  {
   "cell_type": "markdown",
   "metadata": {},
   "source": [
    "Do you have any null values? This data is pretty clean"
   ]
  },
  {
   "cell_type": "code",
   "execution_count": 4,
   "metadata": {},
   "outputs": [
    {
     "data": {
      "text/plain": [
       "False"
      ]
     },
     "execution_count": 4,
     "metadata": {},
     "output_type": "execute_result"
    }
   ],
   "source": [
    "dataset.isnull().values.any()"
   ]
  },
  {
   "cell_type": "code",
   "execution_count": 18,
   "metadata": {},
   "outputs": [
    {
     "data": {
      "text/plain": [
       "0.0"
      ]
     },
     "execution_count": 18,
     "metadata": {},
     "output_type": "execute_result"
    }
   ],
   "source": [
    "dataset.isnull().values.mean()"
   ]
  },
  {
   "cell_type": "markdown",
   "metadata": {},
   "source": [
    "percentage of people have covid"
   ]
  },
  {
   "cell_type": "code",
   "execution_count": 16,
   "metadata": {},
   "outputs": [
    {
     "data": {
      "text/plain": [
       "0    0.636\n",
       "1    0.364\n",
       "Name: has_covid, dtype: float64"
      ]
     },
     "execution_count": 16,
     "metadata": {},
     "output_type": "execute_result"
    }
   ],
   "source": [
    "dataset['has_covid'].value_counts(normalize=True)"
   ]
  },
  {
   "cell_type": "markdown",
   "metadata": {},
   "source": [
    "plot a pie chart with percentages"
   ]
  },
  {
   "cell_type": "code",
   "execution_count": 17,
   "metadata": {
    "scrolled": true
   },
   "outputs": [
    {
     "data": {
      "text/plain": [
       "<AxesSubplot:ylabel='has_covid'>"
      ]
     },
     "execution_count": 17,
     "metadata": {},
     "output_type": "execute_result"
    },
    {
     "data": {
      "image/png": "[encoded data removed]",
      "text/plain": [
       "<Figure size 432x288 with 1 Axes>"
      ]
     },
     "metadata": {},
     "output_type": "display_data"
    }
   ],
   "source": [
    "dataset['has_covid'].value_counts(normalize=True).plot.pie(autopct='%1.1f%%')"
   ]
  },
  {
   "cell_type": "code",
   "execution_count": 19,
   "metadata": {},
   "outputs": [
    {
     "data": {
      "text/plain": [
       "<AxesSubplot:ylabel='has_covid'>"
      ]
     },
     "execution_count": 19,
     "metadata": {},
     "output_type": "execute_result"
    },
    {
     "data": {
      "image/png": "[encoded data removed]",
      "text/plain": [
       "<Figure size 432x288 with 1 Axes>"
      ]
     },
     "metadata": {},
     "output_type": "display_data"
    }
   ],
   "source": [
    "dataset['has_covid'].value_counts(normalize=True).plot.pie(labels=['No Covid', 'Has Covid'], autopct='%1.1f%%')"
   ]
  },
  {
   "cell_type": "code",
   "execution_count": 21,
   "metadata": {
    "scrolled": true
   },
   "outputs": [
    {
     "data": {
      "text/plain": [
       "Index(['blood_pressure', 'lung_capacity', 'body_temperature', 'has_covid'], dtype='object')"
      ]
     },
     "execution_count": 21,
     "metadata": {},
     "output_type": "execute_result"
    }
   ],
   "source": [
    "dataset.columns"
   ]
  },
  {
   "cell_type": "code",
   "execution_count": 22,
   "metadata": {},
   "outputs": [],
   "source": [
    "y=dataset['has_covid']\n",
    "X=dataset[['blood_pressure','lung_capacity','body_temperature']]\n"
   ]
  },
  {
   "cell_type": "code",
   "execution_count": 24,
   "metadata": {
    "scrolled": true
   },
   "outputs": [],
   "source": [
    "from sklearn.model_selection import train_test_split\n",
    "X_train, X_test, y_train, y_test = train_test_split(dataset[['blood_pressure','lung_capacity','body_temperature']], \n",
    "                                                    dataset['has_covid'], test_size=0.2)"
   ]
  },
  {
   "cell_type": "code",
   "execution_count": 27,
   "metadata": {},
   "outputs": [],
   "source": [
    "#I missed something here"
   ]
  },
  {
   "cell_type": "code",
   "execution_count": 28,
   "metadata": {},
   "outputs": [
    {
     "data": {
      "text/plain": [
       "983    1\n",
       "228    0\n",
       "848    0\n",
       "231    1\n",
       "193    1\n",
       "      ..\n",
       "110    0\n",
       "993    0\n",
       "299    1\n",
       "851    0\n",
       "14     1\n",
       "Name: has_covid, Length: 800, dtype: int64"
      ]
     },
     "execution_count": 28,
     "metadata": {},
     "output_type": "execute_result"
    }
   ],
   "source": [
    "y_train"
   ]
  },
  {
   "cell_type": "markdown",
   "metadata": {},
   "source": [
    "To compare the models, we will use **accuracy score**. \n",
    "\n",
    "To read more about different available metrics for quantifying the quality of predictions in scikit-learn library, read [this](https://scikit-learn.org/stable/modules/model_evaluation.html#classification-metrics). "
   ]
  },
  {
   "cell_type": "code",
   "execution_count": 7,
   "metadata": {},
   "outputs": [],
   "source": [
    "losses = {}"
   ]
  },
  {
   "cell_type": "markdown",
   "metadata": {},
   "source": [
    "## Logistic Regression for Classification:\n",
    "\n",
    " - If you use linear regression in classification setting, the predicted y will be in continuous variables and not guaranteed to be between 0 and 1\n",
    " - Since we want to ensure that the predicted y is in between 0 and 1 to represent probability of \"has_covid\", we will use logistic regression\n",
    " - Further reading: [Difference between linear regression and logistic classifier](https://www.analyticsvidhya.com/blog/2020/12/beginners-take-how-logistic-regression-is-related-to-linear-regression/#:~:text=The%20Differences%20between%20Linear%20Regression,Logistic%20regression%20provides%20discreet%20output.)"
   ]
  },
  {
   "cell_type": "markdown",
   "metadata": {},
   "source": [
    "Model Creation Stage = Training the model"
   ]
  },
  {
   "cell_type": "code",
   "execution_count": 29,
   "metadata": {},
   "outputs": [
    {
     "data": {
      "text/plain": [
       "LogisticRegression()"
      ]
     },
     "execution_count": 29,
     "metadata": {},
     "output_type": "execute_result"
    }
   ],
   "source": [
    "from sklearn.linear_model import LogisticRegression\n",
    "\n",
    "lr = LogisticRegression()\n",
    "lr.fit(X_train, y_train)"
   ]
  },
  {
   "cell_type": "markdown",
   "metadata": {},
   "source": [
    "Prediction of results i.e. Using the trained model above, predict the results on the test set."
   ]
  },
  {
   "cell_type": "code",
   "execution_count": 30,
   "metadata": {
    "scrolled": false
   },
   "outputs": [
    {
     "data": {
      "text/plain": [
       "array([1, 0, 0, 0, 0, 0, 0, 0, 0, 1, 0, 1, 1, 0, 0, 1, 1, 0, 0, 0, 0, 1,\n",
       "       1, 0, 0, 0, 0, 0, 0, 1, 0, 0, 0, 0, 0, 1, 0, 0, 1, 1, 1, 0, 0, 1,\n",
       "       1, 0, 0, 0, 0, 1, 1, 0, 0, 0, 1, 0, 0, 0, 1, 0, 0, 0, 1, 0, 1, 0,\n",
       "       0, 0, 0, 1, 0, 0, 0, 0, 0, 1, 1, 0, 1, 0, 0, 1, 0, 0, 0, 0, 0, 0,\n",
       "       0, 0, 0, 0, 1, 0, 0, 1, 0, 1, 1, 0, 0, 1, 1, 0, 1, 0, 1, 0, 0, 0,\n",
       "       1, 0, 0, 0, 1, 1, 0, 0, 0, 1, 0, 0, 0, 0, 0, 0, 1, 1, 0, 0, 1, 0,\n",
       "       0, 0, 0, 1, 0, 1, 0, 0, 0, 0, 1, 1, 0, 1, 0, 0, 1, 0, 1, 0, 0, 0,\n",
       "       0, 0, 0, 0, 1, 1, 1, 0, 0, 0, 0, 0, 0, 0, 0, 0, 0, 0, 0, 1, 0, 0,\n",
       "       1, 1, 0, 0, 0, 1, 1, 0, 0, 0, 1, 1, 0, 0, 0, 1, 0, 0, 1, 1, 0, 0,\n",
       "       0, 0])"
      ]
     },
     "execution_count": 30,
     "metadata": {},
     "output_type": "execute_result"
    }
   ],
   "source": [
    "lr.predict(X_test)"
   ]
  },
  {
   "cell_type": "markdown",
   "metadata": {},
   "source": [
    "We're getting the probability of having covid, which is the second column!"
   ]
  },
  {
   "cell_type": "code",
   "execution_count": 39,
   "metadata": {
    "scrolled": true
   },
   "outputs": [
    {
     "data": {
      "text/plain": [
       "array([0.56328777, 0.21960765, 0.31287407, 0.22380973, 0.40829331,\n",
       "       0.33213483, 0.11187698, 0.36957407, 0.31033998, 0.52955739,\n",
       "       0.32865776, 0.74641865, 0.55155994, 0.35047475, 0.20310627,\n",
       "       0.61790695, 0.54000137, 0.28095735, 0.25352624, 0.32862377,\n",
       "       0.1362622 , 0.5241586 , 0.59428597, 0.28936378, 0.12319131,\n",
       "       0.09415117, 0.06479168, 0.11877433, 0.43052478, 0.58355088,\n",
       "       0.19549575, 0.4089297 , 0.47225298, 0.1147812 , 0.23468788,\n",
       "       0.72283793, 0.27979959, 0.28304916, 0.6545603 , 0.51671324,\n",
       "       0.55316483, 0.24046314, 0.41534601, 0.51727518, 0.50933009,\n",
       "       0.48004751, 0.14155502, 0.11839792, 0.38889308, 0.63455549,\n",
       "       0.51583609, 0.05731099, 0.16859597, 0.13395508, 0.66854736,\n",
       "       0.33841795, 0.28287363, 0.31419063, 0.66749935, 0.48094735,\n",
       "       0.13423125, 0.42591442, 0.57953826, 0.16833888, 0.6650687 ,\n",
       "       0.36412608, 0.0778163 , 0.43544153, 0.15575588, 0.7375027 ,\n",
       "       0.10427555, 0.21696564, 0.05617944, 0.36257938, 0.28972543,\n",
       "       0.6770118 , 0.51335672, 0.28027284, 0.80126511, 0.25484025,\n",
       "       0.24782698, 0.58832967, 0.31914718, 0.19588629, 0.17418034,\n",
       "       0.45177189, 0.18198767, 0.34012929, 0.31329431, 0.40107915,\n",
       "       0.15015905, 0.08370221, 0.81443601, 0.22070197, 0.25293095,\n",
       "       0.63671887, 0.41174465, 0.87032385, 0.5062329 , 0.19795366,\n",
       "       0.44547847, 0.59912378, 0.72940636, 0.16397659, 0.74602018,\n",
       "       0.14115043, 0.88972114, 0.30807399, 0.42560387, 0.32246486,\n",
       "       0.61078577, 0.1898187 , 0.37564766, 0.29179852, 0.50929094,\n",
       "       0.68326564, 0.27072497, 0.42927145, 0.34458586, 0.72809855,\n",
       "       0.35256626, 0.19720121, 0.1853687 , 0.21724773, 0.13862568,\n",
       "       0.12428213, 0.68520466, 0.50909892, 0.32468105, 0.48786559,\n",
       "       0.62264007, 0.27846383, 0.04346875, 0.18905474, 0.29178673,\n",
       "       0.65102954, 0.42638135, 0.72938711, 0.39996466, 0.17818612,\n",
       "       0.33802727, 0.10876369, 0.61691448, 0.63216418, 0.19395368,\n",
       "       0.51370738, 0.46879565, 0.28359191, 0.61944193, 0.10586603,\n",
       "       0.75204861, 0.22591779, 0.28660663, 0.46216192, 0.34740019,\n",
       "       0.31979942, 0.33426598, 0.30589313, 0.69722984, 0.75285934,\n",
       "       0.70531177, 0.2271361 , 0.40911258, 0.46103303, 0.49787955,\n",
       "       0.29969993, 0.26280362, 0.28967207, 0.24614239, 0.16018461,\n",
       "       0.15212188, 0.30949256, 0.28397417, 0.6558188 , 0.14283464,\n",
       "       0.28147885, 0.72055323, 0.65611463, 0.41965281, 0.16171971,\n",
       "       0.14970978, 0.55624153, 0.83537278, 0.38468801, 0.25212829,\n",
       "       0.30991816, 0.65042653, 0.7562606 , 0.39992815, 0.19136272,\n",
       "       0.45522972, 0.80640533, 0.30160078, 0.41382866, 0.68319112,\n",
       "       0.52505441, 0.21967517, 0.24550938, 0.27735885, 0.44292418])"
      ]
     },
     "execution_count": 39,
     "metadata": {},
     "output_type": "execute_result"
    }
   ],
   "source": [
    "lr.predict_proba(X_test)[:,1]"
   ]
  },
  {
   "cell_type": "code",
   "execution_count": 32,
   "metadata": {},
   "outputs": [
    {
     "name": "stderr",
     "output_type": "stream",
     "text": [
      "/Users/sarabernard/opt/anaconda3/lib/python3.9/site-packages/seaborn/_decorators.py:36: FutureWarning: Pass the following variables as keyword args: x, y. From version 0.12, the only valid positional argument will be `data`, and passing other arguments without an explicit keyword will result in an error or misinterpretation.\n",
      "  warnings.warn(\n"
     ]
    },
    {
     "data": {
      "text/plain": [
       "<AxesSubplot:xlabel='blood_pressure'>"
      ]
     },
     "execution_count": 32,
     "metadata": {},
     "output_type": "execute_result"
    },
    {
     "data": {
      "image/png": "[encoded data removed]",
      "text/plain": [
       "<Figure size 432x288 with 1 Axes>"
      ]
     },
     "metadata": {
      "needs_background": "light"
     },
     "output_type": "display_data"
    }
   ],
   "source": [
    "sns.scatterplot(X_test['blood_pressure'], lr.predict_proba(X_test)[:,1], label='test')\n"
   ]
  },
  {
   "cell_type": "code",
   "execution_count": 11,
   "metadata": {
    "scrolled": true
   },
   "outputs": [
    {
     "name": "stdout",
     "output_type": "stream",
     "text": [
      "{'Logistic': 0.695}\n"
     ]
    }
   ],
   "source": [
    "from sklearn.metrics import accuracy_score\n",
    "losses['Logistic'] = accuracy_score(y_test, lr.predict(X_test))\n",
    "print(losses)"
   ]
  },
  {
   "cell_type": "code",
   "execution_count": 12,
   "metadata": {},
   "outputs": [
    {
     "name": "stdout",
     "output_type": "stream",
     "text": [
      "{'Logistic': 0.6321650835244023}\n"
     ]
    }
   ],
   "source": [
    "from sklearn.metrics import roc_auc_score\n",
    "losses['Logistic'] = roc_auc_score(y_test, lr.predict(X_test))\n",
    "print(losses)"
   ]
  },
  {
   "cell_type": "markdown",
   "metadata": {},
   "source": [
    "Reference:\n",
    "- [User Guide for scikit-learn](https://scikit-learn.org/stable/user_guide.html)"
   ]
  }
 ],
 "metadata": {
  "kernelspec": {
   "display_name": "Python 3 (ipykernel)",
   "language": "python",
   "name": "python3"
  },
  "language_info": {
   "codemirror_mode": {
    "name": "ipython",
    "version": 3
   },
   "file_extension": ".py",
   "mimetype": "text/x-python",
   "name": "python",
   "nbconvert_exporter": "python",
   "pygments_lexer": "ipython3",
   "version": "3.9.7"
  }
 },
 "nbformat": 4,
 "nbformat_minor": 4
}
