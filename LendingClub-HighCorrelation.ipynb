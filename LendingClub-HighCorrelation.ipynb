{
 "cells": [
  {
   "cell_type": "markdown",
   "metadata": {},
   "source": [
    "# Lending Club"
   ]
  },
  {
   "cell_type": "markdown",
   "metadata": {},
   "source": [
    "## Linear Classification"
   ]
  },
  {
   "cell_type": "markdown",
   "metadata": {},
   "source": [
    "<a name=\"top\">\n",
    "    \n",
    "# Table of Contents \n",
    "\n",
    "[PART A - DATA CLEANING & FEATURE ENGINEERING](#parta)<br>\n",
    "\n",
    "1. [Import Data](#import)<br>\n",
    "2. [Inspecting the Data](#inspect)<br>\n",
    "3. [Cleaning the Data](#cleaning) <br>\n",
    "* 3.1 [Converting non-mumerical parameters to numerical values](#numerical)<br>\n",
    "* 3.2 [Remove Nulls](#removenulls)<br>\n",
    "* 3.3 [Identify parameters with highest correlation](#correlation)<br>\n",
    "\n",
    "[PART B - MODEL BUILDING](#partb)<br>\n",
    "1. [ALL THREE VARIABLES](#all3)\n",
    "* [Step 1 Prepare your data](#step1)  \n",
    "* [Step 2 Create your model: Train the model](#step2)\n",
    "* [Step 3 Determine the accuracy of your model](#step3)  \n",
    "* [Step 4 Visualization](#step4)  \n",
    "    * [Step 4.1 Confusion Matrix](#confusion)\n",
    "    * [Step 4.2 ROC Receiver Operating Characteristic](#roc)\n",
    "2. [Int rate % only](#int_only)\n",
    "* [Step 1 Prepare your data](#step1-2)  \n",
    "* [Step 2 Create your model: Train the model](#step2-2)\n",
    "* [Step 3 Determine the accuracy of your model](#step3-2)  \n",
    "* [Step 4 Visualization](#step4-2)  \n",
    "    * [Step 4.1 Confusion Matrix](#confusion-2)\n",
    "    * [Step 4.2 ROC Receiver Operating Characteristic](#roc-2)\n",
    "3. [Int rate % and loan grade](#int_loan)\n",
    "* [Step 1 Prepare your data](#step1-3)  \n",
    "* [Step 2 Create your model: Train the model](#step2-3)\n",
    "* [Step 3 Determine the accuracy of your model](#step3-3)  \n",
    "* [Step 4 Visualization](#step4-3)  \n",
    "    * [Step 4.1 Confusion Matrix](#confusion-3)\n",
    "    * [Step 4.2 ROC Receiver Operating Characteristic](#roc-3)"
   ]
  },
  {
   "cell_type": "markdown",
   "metadata": {},
   "source": [
    "<a name=\"parta\"/>\n",
    "\n",
    "# PART A - DATA CLEANING & FEATURE ENGINEERING"
   ]
  },
  {
   "cell_type": "markdown",
   "metadata": {},
   "source": [
    "<a name=\"import\"/>\n",
    "\n",
    "# 1. Import Data "
   ]
  },
  {
   "cell_type": "markdown",
   "metadata": {},
   "source": [
    "[back to top](#top)"
   ]
  },
  {
   "cell_type": "markdown",
   "metadata": {},
   "source": [
    "Let us pick up from where we have left off. "
   ]
  },
  {
   "cell_type": "code",
   "execution_count": 206,
   "metadata": {},
   "outputs": [],
   "source": [
    "import numpy as np\n",
    "import pandas as pd\n",
    "from matplotlib import pyplot as plt\n",
    "import seaborn as sns\n",
    "\n",
    "#from sklearn.metrics import ConfusionMatrixDisplay\n",
    "from sklearn import metrics as metrics\n",
    "from sklearn.metrics import confusion_matrix\n",
    "from sklearn.linear_model import LogisticRegression\n",
    "#from sklearn.preprocessing import StandardScaler\n",
    "from sklearn.model_selection import train_test_split\n",
    "from sklearn.metrics import roc_auc_score\n",
    "from sklearn.metrics import accuracy_score\n",
    "#from sklearn.svm import SVC\n",
    "from sklearn.datasets import make_classification\n",
    "\n",
    "#%matplotlib inline\n",
    "\n"
   ]
  },
  {
   "cell_type": "code",
   "execution_count": 89,
   "metadata": {
    "scrolled": false
   },
   "outputs": [
    {
     "data": {
      "text/html": [
       "<div>\n",
       "<style scoped>\n",
       "    .dataframe tbody tr th:only-of-type {\n",
       "        vertical-align: middle;\n",
       "    }\n",
       "\n",
       "    .dataframe tbody tr th {\n",
       "        vertical-align: top;\n",
       "    }\n",
       "\n",
       "    .dataframe thead th {\n",
       "        text-align: right;\n",
       "    }\n",
       "</style>\n",
       "<table border=\"1\" class=\"dataframe\">\n",
       "  <thead>\n",
       "    <tr style=\"text-align: right;\">\n",
       "      <th></th>\n",
       "      <th>loan_status</th>\n",
       "      <th>annual_inc</th>\n",
       "      <th>verification_status</th>\n",
       "      <th>emp_length</th>\n",
       "      <th>home_ownership</th>\n",
       "      <th>int_rate</th>\n",
       "      <th>loan_amnt</th>\n",
       "      <th>purpose</th>\n",
       "      <th>term</th>\n",
       "      <th>grade</th>\n",
       "    </tr>\n",
       "  </thead>\n",
       "  <tbody>\n",
       "    <tr>\n",
       "      <th>0</th>\n",
       "      <td>Fully Paid</td>\n",
       "      <td>24000.0</td>\n",
       "      <td>Verified</td>\n",
       "      <td>10+ years</td>\n",
       "      <td>RENT</td>\n",
       "      <td>10.65%</td>\n",
       "      <td>5000</td>\n",
       "      <td>credit_card</td>\n",
       "      <td>36 months</td>\n",
       "      <td>B</td>\n",
       "    </tr>\n",
       "    <tr>\n",
       "      <th>1</th>\n",
       "      <td>Charged Off</td>\n",
       "      <td>30000.0</td>\n",
       "      <td>Source Verified</td>\n",
       "      <td>&lt; 1 year</td>\n",
       "      <td>RENT</td>\n",
       "      <td>15.27%</td>\n",
       "      <td>2500</td>\n",
       "      <td>car</td>\n",
       "      <td>60 months</td>\n",
       "      <td>C</td>\n",
       "    </tr>\n",
       "    <tr>\n",
       "      <th>2</th>\n",
       "      <td>Fully Paid</td>\n",
       "      <td>12252.0</td>\n",
       "      <td>Not Verified</td>\n",
       "      <td>10+ years</td>\n",
       "      <td>RENT</td>\n",
       "      <td>15.96%</td>\n",
       "      <td>2400</td>\n",
       "      <td>small_business</td>\n",
       "      <td>36 months</td>\n",
       "      <td>C</td>\n",
       "    </tr>\n",
       "    <tr>\n",
       "      <th>3</th>\n",
       "      <td>Fully Paid</td>\n",
       "      <td>49200.0</td>\n",
       "      <td>Source Verified</td>\n",
       "      <td>10+ years</td>\n",
       "      <td>RENT</td>\n",
       "      <td>13.49%</td>\n",
       "      <td>10000</td>\n",
       "      <td>other</td>\n",
       "      <td>36 months</td>\n",
       "      <td>C</td>\n",
       "    </tr>\n",
       "    <tr>\n",
       "      <th>4</th>\n",
       "      <td>Fully Paid</td>\n",
       "      <td>80000.0</td>\n",
       "      <td>Source Verified</td>\n",
       "      <td>1 year</td>\n",
       "      <td>RENT</td>\n",
       "      <td>12.69%</td>\n",
       "      <td>3000</td>\n",
       "      <td>other</td>\n",
       "      <td>60 months</td>\n",
       "      <td>B</td>\n",
       "    </tr>\n",
       "    <tr>\n",
       "      <th>...</th>\n",
       "      <td>...</td>\n",
       "      <td>...</td>\n",
       "      <td>...</td>\n",
       "      <td>...</td>\n",
       "      <td>...</td>\n",
       "      <td>...</td>\n",
       "      <td>...</td>\n",
       "      <td>...</td>\n",
       "      <td>...</td>\n",
       "      <td>...</td>\n",
       "    </tr>\n",
       "    <tr>\n",
       "      <th>38700</th>\n",
       "      <td>Fully Paid</td>\n",
       "      <td>110000.0</td>\n",
       "      <td>Not Verified</td>\n",
       "      <td>4 years</td>\n",
       "      <td>MORTGAGE</td>\n",
       "      <td>8.07%</td>\n",
       "      <td>2500</td>\n",
       "      <td>home_improvement</td>\n",
       "      <td>36 months</td>\n",
       "      <td>A</td>\n",
       "    </tr>\n",
       "    <tr>\n",
       "      <th>38701</th>\n",
       "      <td>Fully Paid</td>\n",
       "      <td>18000.0</td>\n",
       "      <td>Not Verified</td>\n",
       "      <td>3 years</td>\n",
       "      <td>RENT</td>\n",
       "      <td>10.28%</td>\n",
       "      <td>8500</td>\n",
       "      <td>credit_card</td>\n",
       "      <td>36 months</td>\n",
       "      <td>C</td>\n",
       "    </tr>\n",
       "    <tr>\n",
       "      <th>38702</th>\n",
       "      <td>Fully Paid</td>\n",
       "      <td>100000.0</td>\n",
       "      <td>Not Verified</td>\n",
       "      <td>&lt; 1 year</td>\n",
       "      <td>MORTGAGE</td>\n",
       "      <td>8.07%</td>\n",
       "      <td>5000</td>\n",
       "      <td>debt_consolidation</td>\n",
       "      <td>36 months</td>\n",
       "      <td>A</td>\n",
       "    </tr>\n",
       "    <tr>\n",
       "      <th>38703</th>\n",
       "      <td>Fully Paid</td>\n",
       "      <td>200000.0</td>\n",
       "      <td>Not Verified</td>\n",
       "      <td>&lt; 1 year</td>\n",
       "      <td>MORTGAGE</td>\n",
       "      <td>7.43%</td>\n",
       "      <td>5000</td>\n",
       "      <td>other</td>\n",
       "      <td>36 months</td>\n",
       "      <td>A</td>\n",
       "    </tr>\n",
       "    <tr>\n",
       "      <th>38704</th>\n",
       "      <td>Fully Paid</td>\n",
       "      <td>22000.0</td>\n",
       "      <td>Not Verified</td>\n",
       "      <td>&lt; 1 year</td>\n",
       "      <td>OWN</td>\n",
       "      <td>13.75%</td>\n",
       "      <td>7500</td>\n",
       "      <td>debt_consolidation</td>\n",
       "      <td>36 months</td>\n",
       "      <td>E</td>\n",
       "    </tr>\n",
       "  </tbody>\n",
       "</table>\n",
       "<p>38705 rows × 10 columns</p>\n",
       "</div>"
      ],
      "text/plain": [
       "       loan_status  annual_inc verification_status emp_length home_ownership  \\\n",
       "0       Fully Paid     24000.0            Verified  10+ years           RENT   \n",
       "1      Charged Off     30000.0     Source Verified   < 1 year           RENT   \n",
       "2       Fully Paid     12252.0        Not Verified  10+ years           RENT   \n",
       "3       Fully Paid     49200.0     Source Verified  10+ years           RENT   \n",
       "4       Fully Paid     80000.0     Source Verified     1 year           RENT   \n",
       "...            ...         ...                 ...        ...            ...   \n",
       "38700   Fully Paid    110000.0        Not Verified    4 years       MORTGAGE   \n",
       "38701   Fully Paid     18000.0        Not Verified    3 years           RENT   \n",
       "38702   Fully Paid    100000.0        Not Verified   < 1 year       MORTGAGE   \n",
       "38703   Fully Paid    200000.0        Not Verified   < 1 year       MORTGAGE   \n",
       "38704   Fully Paid     22000.0        Not Verified   < 1 year            OWN   \n",
       "\n",
       "      int_rate  loan_amnt             purpose        term grade  \n",
       "0       10.65%       5000         credit_card   36 months     B  \n",
       "1       15.27%       2500                 car   60 months     C  \n",
       "2       15.96%       2400      small_business   36 months     C  \n",
       "3       13.49%      10000               other   36 months     C  \n",
       "4       12.69%       3000               other   60 months     B  \n",
       "...        ...        ...                 ...         ...   ...  \n",
       "38700    8.07%       2500    home_improvement   36 months     A  \n",
       "38701   10.28%       8500         credit_card   36 months     C  \n",
       "38702    8.07%       5000  debt_consolidation   36 months     A  \n",
       "38703    7.43%       5000               other   36 months     A  \n",
       "38704   13.75%       7500  debt_consolidation   36 months     E  \n",
       "\n",
       "[38705 rows x 10 columns]"
      ]
     },
     "execution_count": 89,
     "metadata": {},
     "output_type": "execute_result"
    }
   ],
   "source": [
    "dataset = pd.read_csv(\"data/cleaned_LendingClub.csv\")\n",
    "dataset"
   ]
  },
  {
   "cell_type": "markdown",
   "metadata": {},
   "source": [
    "<a name=\"inspect\"/>\n",
    "\n",
    "# 2. Inspecting the data"
   ]
  },
  {
   "cell_type": "markdown",
   "metadata": {},
   "source": [
    "[back to top](#top)"
   ]
  },
  {
   "cell_type": "markdown",
   "metadata": {},
   "source": [
    "Do you have any null values? This data is pretty clean"
   ]
  },
  {
   "cell_type": "code",
   "execution_count": 45,
   "metadata": {},
   "outputs": [
    {
     "name": "stdout",
     "output_type": "stream",
     "text": [
      "<class 'pandas.core.frame.DataFrame'>\n",
      "RangeIndex: 38705 entries, 0 to 38704\n",
      "Data columns (total 10 columns):\n",
      " #   Column        Non-Null Count  Dtype  \n",
      "---  ------        --------------  -----  \n",
      " 0   loan_paid     38705 non-null  int64  \n",
      " 1   annual_inc    38705 non-null  float64\n",
      " 2   verified      38705 non-null  float64\n",
      " 3   yrs_employed  38705 non-null  int64  \n",
      " 4   home_own      38705 non-null  float64\n",
      " 5   int_rate_%    38705 non-null  float64\n",
      " 6   debt_con      38705 non-null  float64\n",
      " 7   loan_amnt     38705 non-null  int64  \n",
      " 8   loan_term     38705 non-null  int64  \n",
      " 9   loan_grade    38705 non-null  int64  \n",
      "dtypes: float64(5), int64(5)\n",
      "memory usage: 3.0 MB\n"
     ]
    }
   ],
   "source": [
    "dataset.info()"
   ]
  },
  {
   "cell_type": "code",
   "execution_count": 182,
   "metadata": {},
   "outputs": [
    {
     "data": {
      "text/plain": [
       "Fully Paid     0.85945\n",
       "Charged Off    0.14055\n",
       "Name: loan_status, dtype: float64"
      ]
     },
     "execution_count": 182,
     "metadata": {},
     "output_type": "execute_result"
    }
   ],
   "source": [
    "dataset['loan_status'].value_counts(normalize=True)"
   ]
  },
  {
   "cell_type": "code",
   "execution_count": 156,
   "metadata": {},
   "outputs": [
    {
     "data": {
      "text/plain": [
       "debt_consolidation    0.472161\n",
       "credit_card           0.129363\n",
       "other                 0.099160\n",
       "home_improvement      0.074590\n",
       "major_purchase        0.054670\n",
       "small_business        0.046144\n",
       "car                   0.038729\n",
       "wedding               0.024157\n",
       "medical               0.017310\n",
       "moving                0.014443\n",
       "house                 0.009534\n",
       "vacation              0.009094\n",
       "educational           0.008190\n",
       "renewable_energy      0.002454\n",
       "Name: purpose, dtype: float64"
      ]
     },
     "execution_count": 156,
     "metadata": {},
     "output_type": "execute_result"
    }
   ],
   "source": [
    "dataset['purpose'].value_counts(normalize=True)"
   ]
  },
  {
   "cell_type": "code",
   "execution_count": 166,
   "metadata": {},
   "outputs": [
    {
     "data": {
      "text/plain": [
       "B    0.302209\n",
       "A    0.250459\n",
       "C    0.205090\n",
       "D    0.134685\n",
       "E    0.072626\n",
       "F    0.026741\n",
       "G    0.008190\n",
       "Name: grade, dtype: float64"
      ]
     },
     "execution_count": 166,
     "metadata": {},
     "output_type": "execute_result"
    }
   ],
   "source": [
    "dataset['grade'].value_counts(normalize=True)"
   ]
  },
  {
   "cell_type": "markdown",
   "metadata": {},
   "source": [
    "<a name=\"cleaning\"/>\n",
    "\n",
    "# 3. Cleaning the data\n",
    "\n",
    "<a name=\"numerical\"/>\n",
    "\n",
    "## 3.1 Converting every non-numerical to numerical value"
   ]
  },
  {
   "cell_type": "markdown",
   "metadata": {},
   "source": [
    "[back to top](#top)"
   ]
  },
  {
   "cell_type": "code",
   "execution_count": 199,
   "metadata": {},
   "outputs": [],
   "source": [
    "#reset\n",
    "dataset = pd.read_csv(\"data/cleaned_LendingClub.csv\")"
   ]
  },
  {
   "cell_type": "code",
   "execution_count": 200,
   "metadata": {},
   "outputs": [
    {
     "name": "stderr",
     "output_type": "stream",
     "text": [
      "/var/folders/m6/fxj587w93gn106xqhsxs8g7r0000gn/T/ipykernel_15158/59693578.py:15: FutureWarning: The default value of regex will change from True to False in a future version.\n",
      "  dataset.insert(3, \"yrs_employed\",dataset['emp_length'].str.replace(r'\\D','').astype(int))\n",
      "/var/folders/m6/fxj587w93gn106xqhsxs8g7r0000gn/T/ipykernel_15158/59693578.py:35: FutureWarning: The default value of regex will change from True to False in a future version.\n",
      "  dataset.insert(8, \"loan_term\",dataset['term'].str.replace(r'\\D','').astype(int))\n"
     ]
    },
    {
     "data": {
      "text/html": [
       "<div>\n",
       "<style scoped>\n",
       "    .dataframe tbody tr th:only-of-type {\n",
       "        vertical-align: middle;\n",
       "    }\n",
       "\n",
       "    .dataframe tbody tr th {\n",
       "        vertical-align: top;\n",
       "    }\n",
       "\n",
       "    .dataframe thead th {\n",
       "        text-align: right;\n",
       "    }\n",
       "</style>\n",
       "<table border=\"1\" class=\"dataframe\">\n",
       "  <thead>\n",
       "    <tr style=\"text-align: right;\">\n",
       "      <th></th>\n",
       "      <th>loan_paid</th>\n",
       "      <th>annual_inc</th>\n",
       "      <th>verified</th>\n",
       "      <th>yrs_employed</th>\n",
       "      <th>home_own</th>\n",
       "      <th>int_rate_%</th>\n",
       "      <th>debt_con</th>\n",
       "      <th>loan_amnt</th>\n",
       "      <th>loan_term</th>\n",
       "      <th>loan_grade</th>\n",
       "    </tr>\n",
       "  </thead>\n",
       "  <tbody>\n",
       "    <tr>\n",
       "      <th>0</th>\n",
       "      <td>1</td>\n",
       "      <td>24000.0</td>\n",
       "      <td>1.0</td>\n",
       "      <td>10</td>\n",
       "      <td>0.0</td>\n",
       "      <td>10.65</td>\n",
       "      <td>0.5</td>\n",
       "      <td>5000</td>\n",
       "      <td>36</td>\n",
       "      <td>5</td>\n",
       "    </tr>\n",
       "    <tr>\n",
       "      <th>1</th>\n",
       "      <td>0</td>\n",
       "      <td>30000.0</td>\n",
       "      <td>0.5</td>\n",
       "      <td>0</td>\n",
       "      <td>0.0</td>\n",
       "      <td>15.27</td>\n",
       "      <td>0.0</td>\n",
       "      <td>2500</td>\n",
       "      <td>60</td>\n",
       "      <td>4</td>\n",
       "    </tr>\n",
       "    <tr>\n",
       "      <th>2</th>\n",
       "      <td>1</td>\n",
       "      <td>12252.0</td>\n",
       "      <td>0.0</td>\n",
       "      <td>10</td>\n",
       "      <td>0.0</td>\n",
       "      <td>15.96</td>\n",
       "      <td>0.0</td>\n",
       "      <td>2400</td>\n",
       "      <td>36</td>\n",
       "      <td>4</td>\n",
       "    </tr>\n",
       "    <tr>\n",
       "      <th>3</th>\n",
       "      <td>1</td>\n",
       "      <td>49200.0</td>\n",
       "      <td>0.5</td>\n",
       "      <td>10</td>\n",
       "      <td>0.0</td>\n",
       "      <td>13.49</td>\n",
       "      <td>0.0</td>\n",
       "      <td>10000</td>\n",
       "      <td>36</td>\n",
       "      <td>4</td>\n",
       "    </tr>\n",
       "    <tr>\n",
       "      <th>4</th>\n",
       "      <td>1</td>\n",
       "      <td>80000.0</td>\n",
       "      <td>0.5</td>\n",
       "      <td>1</td>\n",
       "      <td>0.0</td>\n",
       "      <td>12.69</td>\n",
       "      <td>0.0</td>\n",
       "      <td>3000</td>\n",
       "      <td>60</td>\n",
       "      <td>5</td>\n",
       "    </tr>\n",
       "    <tr>\n",
       "      <th>...</th>\n",
       "      <td>...</td>\n",
       "      <td>...</td>\n",
       "      <td>...</td>\n",
       "      <td>...</td>\n",
       "      <td>...</td>\n",
       "      <td>...</td>\n",
       "      <td>...</td>\n",
       "      <td>...</td>\n",
       "      <td>...</td>\n",
       "      <td>...</td>\n",
       "    </tr>\n",
       "    <tr>\n",
       "      <th>38700</th>\n",
       "      <td>1</td>\n",
       "      <td>110000.0</td>\n",
       "      <td>0.0</td>\n",
       "      <td>4</td>\n",
       "      <td>0.5</td>\n",
       "      <td>8.07</td>\n",
       "      <td>0.0</td>\n",
       "      <td>2500</td>\n",
       "      <td>36</td>\n",
       "      <td>6</td>\n",
       "    </tr>\n",
       "    <tr>\n",
       "      <th>38701</th>\n",
       "      <td>1</td>\n",
       "      <td>18000.0</td>\n",
       "      <td>0.0</td>\n",
       "      <td>3</td>\n",
       "      <td>0.0</td>\n",
       "      <td>10.28</td>\n",
       "      <td>0.5</td>\n",
       "      <td>8500</td>\n",
       "      <td>36</td>\n",
       "      <td>4</td>\n",
       "    </tr>\n",
       "    <tr>\n",
       "      <th>38702</th>\n",
       "      <td>1</td>\n",
       "      <td>100000.0</td>\n",
       "      <td>0.0</td>\n",
       "      <td>0</td>\n",
       "      <td>0.5</td>\n",
       "      <td>8.07</td>\n",
       "      <td>1.0</td>\n",
       "      <td>5000</td>\n",
       "      <td>36</td>\n",
       "      <td>6</td>\n",
       "    </tr>\n",
       "    <tr>\n",
       "      <th>38703</th>\n",
       "      <td>1</td>\n",
       "      <td>200000.0</td>\n",
       "      <td>0.0</td>\n",
       "      <td>0</td>\n",
       "      <td>0.5</td>\n",
       "      <td>7.43</td>\n",
       "      <td>0.0</td>\n",
       "      <td>5000</td>\n",
       "      <td>36</td>\n",
       "      <td>6</td>\n",
       "    </tr>\n",
       "    <tr>\n",
       "      <th>38704</th>\n",
       "      <td>1</td>\n",
       "      <td>22000.0</td>\n",
       "      <td>0.0</td>\n",
       "      <td>0</td>\n",
       "      <td>1.0</td>\n",
       "      <td>13.75</td>\n",
       "      <td>1.0</td>\n",
       "      <td>7500</td>\n",
       "      <td>36</td>\n",
       "      <td>2</td>\n",
       "    </tr>\n",
       "  </tbody>\n",
       "</table>\n",
       "<p>38705 rows × 10 columns</p>\n",
       "</div>"
      ],
      "text/plain": [
       "       loan_paid  annual_inc  verified  yrs_employed  home_own  int_rate_%  \\\n",
       "0              1     24000.0       1.0            10       0.0       10.65   \n",
       "1              0     30000.0       0.5             0       0.0       15.27   \n",
       "2              1     12252.0       0.0            10       0.0       15.96   \n",
       "3              1     49200.0       0.5            10       0.0       13.49   \n",
       "4              1     80000.0       0.5             1       0.0       12.69   \n",
       "...          ...         ...       ...           ...       ...         ...   \n",
       "38700          1    110000.0       0.0             4       0.5        8.07   \n",
       "38701          1     18000.0       0.0             3       0.0       10.28   \n",
       "38702          1    100000.0       0.0             0       0.5        8.07   \n",
       "38703          1    200000.0       0.0             0       0.5        7.43   \n",
       "38704          1     22000.0       0.0             0       1.0       13.75   \n",
       "\n",
       "       debt_con  loan_amnt  loan_term  loan_grade  \n",
       "0           0.5       5000         36           5  \n",
       "1           0.0       2500         60           4  \n",
       "2           0.0       2400         36           4  \n",
       "3           0.0      10000         36           4  \n",
       "4           0.0       3000         60           5  \n",
       "...         ...        ...        ...         ...  \n",
       "38700       0.0       2500         36           6  \n",
       "38701       0.5       8500         36           4  \n",
       "38702       1.0       5000         36           6  \n",
       "38703       0.0       5000         36           6  \n",
       "38704       1.0       7500         36           2  \n",
       "\n",
       "[38705 rows x 10 columns]"
      ]
     },
     "execution_count": 200,
     "metadata": {},
     "output_type": "execute_result"
    }
   ],
   "source": [
    "\n",
    "#Add new rows\n",
    "#loan_paid (yes or no) to represent loan_status\n",
    "dataset.insert(1, \"loan_paid\",0)\n",
    "dataset.loc[dataset['loan_status']==\"Fully Paid\",'loan_paid']=1\n",
    "dataset.drop(['loan_status'], axis=1,inplace=True)\n",
    "\n",
    "#verified (yes=1 or source_verified =0.5 or no=0) to represent verification_status\n",
    "dataset.insert(2, \"verified\",0)\n",
    "dataset.loc[dataset['verification_status']==\"Verified\",'verified']=1\n",
    "dataset.loc[dataset['verification_status']==\"Source Verified\",'verified']=0.5\n",
    "dataset.drop(['verification_status'], axis=1,inplace=True)\n",
    "\n",
    "#yrs_employed to represent represent emp_length\n",
    "dataset[\"emp_length\"].replace({\"< 1 year\": \"0\"}, inplace=True)\n",
    "dataset.insert(3, \"yrs_employed\",dataset['emp_length'].str.replace(r'\\D','').astype(int))\n",
    "dataset.drop(['emp_length'], axis=1,inplace=True)\n",
    "\n",
    "#home_own (yes=1, mortgage=0.5, rent=0) to represent home_ownership\n",
    "dataset.insert(4, \"home_own\",0)\n",
    "dataset.loc[dataset['home_ownership']==\"OWN\",'home_own']=1\n",
    "dataset.loc[dataset['home_ownership']==\"MORTGAGE\",'home_own']=0.5\n",
    "dataset.drop(['home_ownership'], axis=1,inplace=True)\n",
    "\n",
    "#int_rate_ to represent represent int_rate\n",
    "dataset.insert(5, \"int_rate_%\",dataset['int_rate'].str.rstrip('%').astype('float'))\n",
    "dataset.drop(['int_rate'], axis=1,inplace=True)\n",
    "\n",
    "#debt_con (yes=1, credit_card=0.5, no=0) to represent debt_consolidation\n",
    "dataset.insert(6, \"debt_con\",0)\n",
    "dataset.loc[dataset['purpose']==\"debt_consolidation\",'debt_con']=1\n",
    "dataset.loc[dataset['purpose']==\"credit_card\",'debt_con']=0.5\n",
    "dataset.drop(['purpose'], axis=1,inplace=True)\n",
    "\n",
    "#loan_term to represent represent term\n",
    "dataset.insert(8, \"loan_term\",dataset['term'].str.replace(r'\\D','').astype(int))\n",
    "dataset.drop(['term'], axis=1,inplace=True)\n",
    "\n",
    "#loan_grade (A-G,7-0) to represent grade\n",
    "dataset['loan_grade'] = 0\n",
    "dataset.loc[dataset['grade']==\"A\",'loan_grade']=6\n",
    "dataset.loc[dataset['grade']==\"B\",'loan_grade']=5\n",
    "dataset.loc[dataset['grade']==\"C\",'loan_grade']=4\n",
    "dataset.loc[dataset['grade']==\"D\",'loan_grade']=3\n",
    "dataset.loc[dataset['grade']==\"E\",'loan_grade']=2\n",
    "dataset.loc[dataset['grade']==\"F\",'loan_grade']=1\n",
    "dataset.loc[dataset['grade']==\"G\",'loan_grade']=0\n",
    "dataset.drop(['grade'], axis=1,inplace=True)\n",
    "\n",
    "dataset"
   ]
  },
  {
   "cell_type": "markdown",
   "metadata": {},
   "source": [
    "<a name=\"removenulls\"/>\n",
    "\n",
    "## 3.2 Remove nulls"
   ]
  },
  {
   "cell_type": "markdown",
   "metadata": {},
   "source": [
    "[back to top](#top)"
   ]
  },
  {
   "cell_type": "code",
   "execution_count": 201,
   "metadata": {},
   "outputs": [
    {
     "data": {
      "text/plain": [
       "False"
      ]
     },
     "execution_count": 201,
     "metadata": {},
     "output_type": "execute_result"
    }
   ],
   "source": [
    "dataset.isnull().values.any()"
   ]
  },
  {
   "cell_type": "code",
   "execution_count": 202,
   "metadata": {},
   "outputs": [
    {
     "data": {
      "text/plain": [
       "0.0"
      ]
     },
     "execution_count": 202,
     "metadata": {},
     "output_type": "execute_result"
    }
   ],
   "source": [
    "dataset.isnull().values.mean()"
   ]
  },
  {
   "cell_type": "code",
   "execution_count": 203,
   "metadata": {},
   "outputs": [
    {
     "data": {
      "text/plain": [
       "(38705, 10)"
      ]
     },
     "execution_count": 203,
     "metadata": {},
     "output_type": "execute_result"
    }
   ],
   "source": [
    "dataset.shape"
   ]
  },
  {
   "cell_type": "markdown",
   "metadata": {},
   "source": [
    "<a name=\"correlation\"/>\n",
    "\n",
    "## 3.3 Identify parameters with highest correlation"
   ]
  },
  {
   "cell_type": "markdown",
   "metadata": {},
   "source": [
    "[back to top](#top)"
   ]
  },
  {
   "cell_type": "code",
   "execution_count": 205,
   "metadata": {},
   "outputs": [
    {
     "data": {
      "text/html": [
       "<div>\n",
       "<style scoped>\n",
       "    .dataframe tbody tr th:only-of-type {\n",
       "        vertical-align: middle;\n",
       "    }\n",
       "\n",
       "    .dataframe tbody tr th {\n",
       "        vertical-align: top;\n",
       "    }\n",
       "\n",
       "    .dataframe thead th {\n",
       "        text-align: right;\n",
       "    }\n",
       "</style>\n",
       "<table border=\"1\" class=\"dataframe\">\n",
       "  <thead>\n",
       "    <tr style=\"text-align: right;\">\n",
       "      <th></th>\n",
       "      <th>loan_paid</th>\n",
       "      <th>annual_inc</th>\n",
       "      <th>verified</th>\n",
       "      <th>yrs_employed</th>\n",
       "      <th>home_own</th>\n",
       "      <th>int_rate_%</th>\n",
       "      <th>debt_con</th>\n",
       "      <th>loan_amnt</th>\n",
       "      <th>loan_term</th>\n",
       "      <th>loan_grade</th>\n",
       "    </tr>\n",
       "  </thead>\n",
       "  <tbody>\n",
       "    <tr>\n",
       "      <th>loan_paid</th>\n",
       "      <td>1.000000</td>\n",
       "      <td>0.038905</td>\n",
       "      <td>-0.043782</td>\n",
       "      <td>-0.013085</td>\n",
       "      <td>0.018241</td>\n",
       "      <td>-0.200111</td>\n",
       "      <td>-0.006485</td>\n",
       "      <td>-0.053193</td>\n",
       "      <td>-0.151221</td>\n",
       "      <td>0.193650</td>\n",
       "    </tr>\n",
       "    <tr>\n",
       "      <th>annual_inc</th>\n",
       "      <td>0.038905</td>\n",
       "      <td>1.000000</td>\n",
       "      <td>0.128609</td>\n",
       "      <td>0.111717</td>\n",
       "      <td>0.123586</td>\n",
       "      <td>0.050614</td>\n",
       "      <td>-0.025453</td>\n",
       "      <td>0.268672</td>\n",
       "      <td>0.046435</td>\n",
       "      <td>-0.052457</td>\n",
       "    </tr>\n",
       "    <tr>\n",
       "      <th>verified</th>\n",
       "      <td>-0.043782</td>\n",
       "      <td>0.128609</td>\n",
       "      <td>1.000000</td>\n",
       "      <td>0.093299</td>\n",
       "      <td>0.036009</td>\n",
       "      <td>0.214416</td>\n",
       "      <td>0.082453</td>\n",
       "      <td>0.421443</td>\n",
       "      <td>0.260829</td>\n",
       "      <td>-0.196053</td>\n",
       "    </tr>\n",
       "    <tr>\n",
       "      <th>yrs_employed</th>\n",
       "      <td>-0.013085</td>\n",
       "      <td>0.111717</td>\n",
       "      <td>0.093299</td>\n",
       "      <td>1.000000</td>\n",
       "      <td>0.216527</td>\n",
       "      <td>0.006727</td>\n",
       "      <td>0.022744</td>\n",
       "      <td>0.155520</td>\n",
       "      <td>0.113796</td>\n",
       "      <td>-0.004146</td>\n",
       "    </tr>\n",
       "    <tr>\n",
       "      <th>home_own</th>\n",
       "      <td>0.018241</td>\n",
       "      <td>0.123586</td>\n",
       "      <td>0.036009</td>\n",
       "      <td>0.216527</td>\n",
       "      <td>1.000000</td>\n",
       "      <td>-0.057929</td>\n",
       "      <td>-0.071343</td>\n",
       "      <td>0.113178</td>\n",
       "      <td>0.075074</td>\n",
       "      <td>0.052509</td>\n",
       "    </tr>\n",
       "    <tr>\n",
       "      <th>int_rate_%</th>\n",
       "      <td>-0.200111</td>\n",
       "      <td>0.050614</td>\n",
       "      <td>0.214416</td>\n",
       "      <td>0.006727</td>\n",
       "      <td>-0.057929</td>\n",
       "      <td>1.000000</td>\n",
       "      <td>0.111894</td>\n",
       "      <td>0.308663</td>\n",
       "      <td>0.453779</td>\n",
       "      <td>-0.948552</td>\n",
       "    </tr>\n",
       "    <tr>\n",
       "      <th>debt_con</th>\n",
       "      <td>-0.006485</td>\n",
       "      <td>-0.025453</td>\n",
       "      <td>0.082453</td>\n",
       "      <td>0.022744</td>\n",
       "      <td>-0.071343</td>\n",
       "      <td>0.111894</td>\n",
       "      <td>1.000000</td>\n",
       "      <td>0.208190</td>\n",
       "      <td>0.043654</td>\n",
       "      <td>-0.100397</td>\n",
       "    </tr>\n",
       "    <tr>\n",
       "      <th>loan_amnt</th>\n",
       "      <td>-0.053193</td>\n",
       "      <td>0.268672</td>\n",
       "      <td>0.421443</td>\n",
       "      <td>0.155520</td>\n",
       "      <td>0.113178</td>\n",
       "      <td>0.308663</td>\n",
       "      <td>0.208190</td>\n",
       "      <td>1.000000</td>\n",
       "      <td>0.361222</td>\n",
       "      <td>-0.289297</td>\n",
       "    </tr>\n",
       "    <tr>\n",
       "      <th>loan_term</th>\n",
       "      <td>-0.151221</td>\n",
       "      <td>0.046435</td>\n",
       "      <td>0.260829</td>\n",
       "      <td>0.113796</td>\n",
       "      <td>0.075074</td>\n",
       "      <td>0.453779</td>\n",
       "      <td>0.043654</td>\n",
       "      <td>0.361222</td>\n",
       "      <td>1.000000</td>\n",
       "      <td>-0.432002</td>\n",
       "    </tr>\n",
       "    <tr>\n",
       "      <th>loan_grade</th>\n",
       "      <td>0.193650</td>\n",
       "      <td>-0.052457</td>\n",
       "      <td>-0.196053</td>\n",
       "      <td>-0.004146</td>\n",
       "      <td>0.052509</td>\n",
       "      <td>-0.948552</td>\n",
       "      <td>-0.100397</td>\n",
       "      <td>-0.289297</td>\n",
       "      <td>-0.432002</td>\n",
       "      <td>1.000000</td>\n",
       "    </tr>\n",
       "  </tbody>\n",
       "</table>\n",
       "</div>"
      ],
      "text/plain": [
       "              loan_paid  annual_inc  verified  yrs_employed  home_own  \\\n",
       "loan_paid      1.000000    0.038905 -0.043782     -0.013085  0.018241   \n",
       "annual_inc     0.038905    1.000000  0.128609      0.111717  0.123586   \n",
       "verified      -0.043782    0.128609  1.000000      0.093299  0.036009   \n",
       "yrs_employed  -0.013085    0.111717  0.093299      1.000000  0.216527   \n",
       "home_own       0.018241    0.123586  0.036009      0.216527  1.000000   \n",
       "int_rate_%    -0.200111    0.050614  0.214416      0.006727 -0.057929   \n",
       "debt_con      -0.006485   -0.025453  0.082453      0.022744 -0.071343   \n",
       "loan_amnt     -0.053193    0.268672  0.421443      0.155520  0.113178   \n",
       "loan_term     -0.151221    0.046435  0.260829      0.113796  0.075074   \n",
       "loan_grade     0.193650   -0.052457 -0.196053     -0.004146  0.052509   \n",
       "\n",
       "              int_rate_%  debt_con  loan_amnt  loan_term  loan_grade  \n",
       "loan_paid      -0.200111 -0.006485  -0.053193  -0.151221    0.193650  \n",
       "annual_inc      0.050614 -0.025453   0.268672   0.046435   -0.052457  \n",
       "verified        0.214416  0.082453   0.421443   0.260829   -0.196053  \n",
       "yrs_employed    0.006727  0.022744   0.155520   0.113796   -0.004146  \n",
       "home_own       -0.057929 -0.071343   0.113178   0.075074    0.052509  \n",
       "int_rate_%      1.000000  0.111894   0.308663   0.453779   -0.948552  \n",
       "debt_con        0.111894  1.000000   0.208190   0.043654   -0.100397  \n",
       "loan_amnt       0.308663  0.208190   1.000000   0.361222   -0.289297  \n",
       "loan_term       0.453779  0.043654   0.361222   1.000000   -0.432002  \n",
       "loan_grade     -0.948552 -0.100397  -0.289297  -0.432002    1.000000  "
      ]
     },
     "execution_count": 205,
     "metadata": {},
     "output_type": "execute_result"
    }
   ],
   "source": [
    "dataset.corr()"
   ]
  },
  {
   "cell_type": "code",
   "execution_count": 204,
   "metadata": {
    "scrolled": true
   },
   "outputs": [
    {
     "data": {
      "text/html": [
       "<div>\n",
       "<style scoped>\n",
       "    .dataframe tbody tr th:only-of-type {\n",
       "        vertical-align: middle;\n",
       "    }\n",
       "\n",
       "    .dataframe tbody tr th {\n",
       "        vertical-align: top;\n",
       "    }\n",
       "\n",
       "    .dataframe thead th {\n",
       "        text-align: right;\n",
       "    }\n",
       "</style>\n",
       "<table border=\"1\" class=\"dataframe\">\n",
       "  <thead>\n",
       "    <tr style=\"text-align: right;\">\n",
       "      <th></th>\n",
       "      <th>loan_paid</th>\n",
       "    </tr>\n",
       "  </thead>\n",
       "  <tbody>\n",
       "    <tr>\n",
       "      <th>loan_paid</th>\n",
       "      <td>1.000000</td>\n",
       "    </tr>\n",
       "    <tr>\n",
       "      <th>int_rate_%</th>\n",
       "      <td>0.200111</td>\n",
       "    </tr>\n",
       "    <tr>\n",
       "      <th>loan_grade</th>\n",
       "      <td>0.193650</td>\n",
       "    </tr>\n",
       "    <tr>\n",
       "      <th>loan_term</th>\n",
       "      <td>0.151221</td>\n",
       "    </tr>\n",
       "  </tbody>\n",
       "</table>\n",
       "</div>"
      ],
      "text/plain": [
       "            loan_paid\n",
       "loan_paid    1.000000\n",
       "int_rate_%   0.200111\n",
       "loan_grade   0.193650\n",
       "loan_term    0.151221"
      ]
     },
     "execution_count": 204,
     "metadata": {},
     "output_type": "execute_result"
    }
   ],
   "source": [
    "abs_cor=abs(dataset.corr())\n",
    "high_cor = abs_cor['loan_paid']>0.1\n",
    "abs_cor['loan_paid'][high_cor].sort_values(ascending=False).to_frame()"
   ]
  },
  {
   "cell_type": "markdown",
   "metadata": {},
   "source": [
    "percentage of people have covid"
   ]
  },
  {
   "cell_type": "markdown",
   "metadata": {},
   "source": [
    "plot a pie chart with percentages"
   ]
  },
  {
   "cell_type": "code",
   "execution_count": 184,
   "metadata": {
    "scrolled": false
   },
   "outputs": [
    {
     "data": {
      "text/plain": [
       "<AxesSubplot:ylabel='loan_paid'>"
      ]
     },
     "execution_count": 184,
     "metadata": {},
     "output_type": "execute_result"
    },
    {
     "data": {
      "image/png": "[encoded data removed]",
      "text/plain": [
       "<Figure size 432x288 with 1 Axes>"
      ]
     },
     "metadata": {},
     "output_type": "display_data"
    }
   ],
   "source": [
    "dataset['loan_paid'].value_counts(normalize=True).plot.pie(labels=['Fully Paid', 'Charged Off'],autopct='%1.1f%%')"
   ]
  },
  {
   "cell_type": "code",
   "execution_count": 215,
   "metadata": {},
   "outputs": [
    {
     "data": {
      "image/png": "[encoded data removed]",
      "text/plain": [
       "<Figure size 432x288 with 1 Axes>"
      ]
     },
     "metadata": {
      "needs_background": "light"
     },
     "output_type": "display_data"
    }
   ],
   "source": [
    "ax=sns.histplot(data=dataset, x='int_rate_%', hue='loan_paid')"
   ]
  },
  {
   "cell_type": "code",
   "execution_count": 212,
   "metadata": {},
   "outputs": [
    {
     "data": {
      "image/png": "[encoded data removed]",
      "text/plain": [
       "<Figure size 432x288 with 1 Axes>"
      ]
     },
     "metadata": {
      "needs_background": "light"
     },
     "output_type": "display_data"
    }
   ],
   "source": [
    "#sns.histplot(data=dataset, x='loan_grade')\n",
    "ax=sns.histplot(data=dataset, x='loan_grade', hue='loan_paid')"
   ]
  },
  {
   "cell_type": "markdown",
   "metadata": {},
   "source": [
    "If you paid off your loan you were more likely to have a shorter term loan than someone who didn't pay off their loan."
   ]
  },
  {
   "cell_type": "code",
   "execution_count": 213,
   "metadata": {},
   "outputs": [
    {
     "data": {
      "image/png": "[encoded data removed]",
      "text/plain": [
       "<Figure size 432x288 with 1 Axes>"
      ]
     },
     "metadata": {
      "needs_background": "light"
     },
     "output_type": "display_data"
    }
   ],
   "source": [
    "#dataset['loan_term'].value_counts(normalize=True).plot.pie(labels=['36 months', '60 months'],autopct='%1.1f%%')\n",
    "ax=sns.histplot(data=dataset, x='loan_term', hue='loan_paid')"
   ]
  },
  {
   "cell_type": "markdown",
   "metadata": {},
   "source": [
    "<a name=\"partb\"/>\n",
    "\n",
    "# PART B- MODEL BUILDING"
   ]
  },
  {
   "cell_type": "markdown",
   "metadata": {},
   "source": [
    "\n",
    "<a name=\"all3\"/>\n",
    "\n",
    "# 1.0 ALL THREE VARIABLES"
   ]
  },
  {
   "cell_type": "markdown",
   "metadata": {},
   "source": [
    "<a name=\"step1\"/>\n",
    "\n",
    "# Step 1 Prepare your data"
   ]
  },
  {
   "cell_type": "markdown",
   "metadata": {},
   "source": [
    "[back to top](#top)"
   ]
  },
  {
   "cell_type": "code",
   "execution_count": 92,
   "metadata": {},
   "outputs": [],
   "source": [
    "y=dataset['loan_paid']\n",
    "X=dataset[['int_rate_%','loan_grade','loan_term']]"
   ]
  },
  {
   "cell_type": "code",
   "execution_count": 93,
   "metadata": {
    "scrolled": true
   },
   "outputs": [],
   "source": [
    "X_train, X_test, y_train, y_test = train_test_split(X,y,test_size=0.2)"
   ]
  },
  {
   "cell_type": "markdown",
   "metadata": {},
   "source": [
    "<a name=\"step2\"/>\n",
    "\n",
    "# Step 2 Create your model: Train the model"
   ]
  },
  {
   "cell_type": "markdown",
   "metadata": {},
   "source": [
    "[back to top](#top)"
   ]
  },
  {
   "cell_type": "code",
   "execution_count": 94,
   "metadata": {},
   "outputs": [
    {
     "data": {
      "text/plain": [
       "LogisticRegression()"
      ]
     },
     "execution_count": 94,
     "metadata": {},
     "output_type": "execute_result"
    }
   ],
   "source": [
    "lr = LogisticRegression()\n",
    "lr.fit(X_train, y_train)"
   ]
  },
  {
   "cell_type": "markdown",
   "metadata": {},
   "source": [
    "Prediction of results i.e. Using the trained model above, predict the results on the test set.\n",
    "This is y_predict!"
   ]
  },
  {
   "cell_type": "code",
   "execution_count": 95,
   "metadata": {},
   "outputs": [
    {
     "data": {
      "text/plain": [
       "array([1, 1, 1, ..., 1, 1, 1])"
      ]
     },
     "execution_count": 95,
     "metadata": {},
     "output_type": "execute_result"
    }
   ],
   "source": [
    "lr.predict(X_test)"
   ]
  },
  {
   "cell_type": "markdown",
   "metadata": {},
   "source": [
    "Let's get the prediction of the probabilty of that someoene will pay off the loan."
   ]
  },
  {
   "cell_type": "code",
   "execution_count": 104,
   "metadata": {},
   "outputs": [
    {
     "data": {
      "text/plain": [
       "array([0.81959879, 0.90667046, 0.90397967, ..., 0.94119427, 0.85697255,\n",
       "       0.94597736])"
      ]
     },
     "execution_count": 104,
     "metadata": {},
     "output_type": "execute_result"
    }
   ],
   "source": [
    "lr.predict_proba(X_test)[:,1]"
   ]
  },
  {
   "cell_type": "markdown",
   "metadata": {},
   "source": [
    "* The class assignment of X is 1 if the prob that Y =1 is more than or equal to 0.5.\n",
    "* else the class assignment of X is 0\n",
    "\n",
    "$X_i$ = 1 if P ( Y=1 | X ) >= 0.5 else 0"
   ]
  },
  {
   "cell_type": "markdown",
   "metadata": {},
   "source": [
    "y = f(X) =$\\frac{1}{1+e^X\\beta}$"
   ]
  },
  {
   "cell_type": "markdown",
   "metadata": {},
   "source": [
    "To compare the models, we will use **accuracy score**. \n",
    "\n",
    "To read more about different available metrics for quantifying the quality of predictions in scikit-learn library, read [this](https://scikit-learn.org/stable/modules/model_evaluation.html#classification-metrics). "
   ]
  },
  {
   "cell_type": "markdown",
   "metadata": {},
   "source": [
    "<a name=\"step3\"/>\n",
    "\n",
    "# Step 3 Determine the accuracy of your model"
   ]
  },
  {
   "cell_type": "markdown",
   "metadata": {},
   "source": [
    "[back to top](#top)"
   ]
  },
  {
   "cell_type": "code",
   "execution_count": 97,
   "metadata": {},
   "outputs": [],
   "source": [
    "accuracy = {}"
   ]
  },
  {
   "cell_type": "code",
   "execution_count": 98,
   "metadata": {},
   "outputs": [
    {
     "data": {
      "text/plain": [
       "{'High_Correlate_roc': 0.8526030228652629}"
      ]
     },
     "execution_count": 98,
     "metadata": {},
     "output_type": "execute_result"
    }
   ],
   "source": [
    "accuracy['High_Correlate_roc'] = accuracy_score(y_test, lr.predict(X_test))\n",
    "accuracy"
   ]
  },
  {
   "cell_type": "code",
   "execution_count": 99,
   "metadata": {},
   "outputs": [
    {
     "data": {
      "text/plain": [
       "{'High_Correlate_roc': 0.8526030228652629,\n",
       " 'High_Correlate_auc': 0.5,\n",
       " 'High_Correlate_auc_prob': 0.6717180569941306}"
      ]
     },
     "execution_count": 99,
     "metadata": {},
     "output_type": "execute_result"
    }
   ],
   "source": [
    "accuracy['High_Correlate_auc'] = roc_auc_score(y_test, lr.predict(X_test))\n",
    "accuracy['High_Correlate_auc_prob'] = roc_auc_score(y_test, lr.predict_proba(X_test)[:, 1])\n",
    "accuracy"
   ]
  },
  {
   "cell_type": "markdown",
   "metadata": {},
   "source": [
    "<a name=\"step4\"/>\n",
    "\n",
    "# Step 4 Visualization"
   ]
  },
  {
   "cell_type": "markdown",
   "metadata": {},
   "source": [
    "<a name=\"confusion\"/>\n",
    "\n",
    "## Confusion Matrix"
   ]
  },
  {
   "cell_type": "markdown",
   "metadata": {},
   "source": [
    "[back to top](#top)"
   ]
  },
  {
   "cell_type": "code",
   "execution_count": 108,
   "metadata": {},
   "outputs": [
    {
     "data": {
      "text/plain": [
       "array([[   0, 1141],\n",
       "       [   0, 6600]])"
      ]
     },
     "execution_count": 108,
     "metadata": {},
     "output_type": "execute_result"
    }
   ],
   "source": [
    "#Get the confusion matrix\n",
    "cf_matrix=confusion_matrix(y_test, lr.predict(X_test))\n",
    "cf_matrix"
   ]
  },
  {
   "cell_type": "code",
   "execution_count": 155,
   "metadata": {},
   "outputs": [],
   "source": [
    "#source code https://medium.com/@dtuk81/confusion-matrix-visualization-fc31e3f30fea\n",
    "group_names = ['True Neg','False Pos','False Neg','True Pos']\n",
    "group_counts = [\"{0:0.0f}\".format(value) for value in\n",
    "                cf_matrix.flatten()]\n",
    "#group_percentages = [“{0:.2%}”.format(value) for value in cf_matrix.flatten()/np.sum(cf_matrix)]\n",
    "labels = [f\"{v1}\\n{v2}\" for v1, v2 in zip(group_names,group_counts)]"
   ]
  },
  {
   "cell_type": "code",
   "execution_count": 164,
   "metadata": {
    "scrolled": true
   },
   "outputs": [
    {
     "data": {
      "text/plain": [
       "<AxesSubplot:>"
      ]
     },
     "execution_count": 164,
     "metadata": {},
     "output_type": "execute_result"
    },
    {
     "data": {
      "image/png": "[encoded data removed]",
      "text/plain": [
       "<Figure size 432x288 with 2 Axes>"
      ]
     },
     "metadata": {
      "needs_background": "light"
     },
     "output_type": "display_data"
    }
   ],
   "source": [
    "labels = np.asarray(labels).reshape(2,2)\n",
    "sns.heatmap(cf_matrix, annot=labels, fmt='', cmap='Blues')"
   ]
  },
  {
   "cell_type": "markdown",
   "metadata": {},
   "source": [
    "<a name=\"roc\"/>\n",
    "\n",
    "## ROC Receiver Operating Characteristic"
   ]
  },
  {
   "cell_type": "markdown",
   "metadata": {},
   "source": [
    "[back to top](#top)"
   ]
  },
  {
   "cell_type": "code",
   "execution_count": 170,
   "metadata": {},
   "outputs": [],
   "source": [
    "probas = lr.predict_proba(X_test)[:, 1]"
   ]
  },
  {
   "cell_type": "code",
   "execution_count": 171,
   "metadata": {},
   "outputs": [],
   "source": [
    "def get_preds(threshold, probabilities):\n",
    "    return [1 if prob > threshold else 0 for prob in probabilities]\n"
   ]
  },
  {
   "cell_type": "code",
   "execution_count": 172,
   "metadata": {},
   "outputs": [],
   "source": [
    "roc_values = []\n",
    "for thresh in np.linspace(0, 1, 100):\n",
    "    preds = get_preds(thresh, probas)\n",
    "    tn, fp, fn, tp = confusion_matrix(y_test, preds).ravel()\n",
    "    tpr = tp/(tp+fn)\n",
    "    fpr = fp/(fp+tn)\n",
    "    roc_values.append([tpr, fpr])\n",
    "tpr_values, fpr_values = zip(*roc_values)"
   ]
  },
  {
   "cell_type": "code",
   "execution_count": 176,
   "metadata": {
    "scrolled": true
   },
   "outputs": [
    {
     "data": {
      "image/png": "[encoded data removed]",
      "text/plain": [
       "<Figure size 720x504 with 1 Axes>"
      ]
     },
     "metadata": {
      "needs_background": "light"
     },
     "output_type": "display_data"
    }
   ],
   "source": [
    "fig, ax = plt.subplots(figsize=(10,7))\n",
    "ax.plot(fpr_values, tpr_values)\n",
    "ax.plot(np.linspace(0, 1, 100),\n",
    "         np.linspace(0, 1, 100),\n",
    "         label='baseline',\n",
    "         linestyle='--')\n",
    "plt.title('Receiver Operating Characteristic Curve', fontsize=18)\n",
    "plt.ylabel('True Positive Rate', fontsize=16)\n",
    "plt.xlabel('False Positive Rate', fontsize=16)\n",
    "plt.legend(fontsize=12);"
   ]
  },
  {
   "cell_type": "code",
   "execution_count": 174,
   "metadata": {},
   "outputs": [
    {
     "data": {
      "text/plain": [
       "0.5"
      ]
     },
     "execution_count": 174,
     "metadata": {},
     "output_type": "execute_result"
    }
   ],
   "source": [
    "roc_auc_score(y_test, preds)"
   ]
  },
  {
   "cell_type": "code",
   "execution_count": 175,
   "metadata": {},
   "outputs": [
    {
     "data": {
      "text/plain": [
       "0.6717180569941306"
      ]
     },
     "execution_count": 175,
     "metadata": {},
     "output_type": "execute_result"
    }
   ],
   "source": [
    "roc_auc_score(y_test, probas)"
   ]
  },
  {
   "cell_type": "markdown",
   "metadata": {},
   "source": [
    "<a name=\"int_only\"/>\n",
    "\n",
    "# 2.0 int rate % only"
   ]
  },
  {
   "cell_type": "markdown",
   "metadata": {},
   "source": [
    "<a name=\"step1-2\"/>\n",
    "\n",
    "# Step 1 Prepare your data"
   ]
  },
  {
   "cell_type": "markdown",
   "metadata": {},
   "source": [
    "[back to top](#top)"
   ]
  },
  {
   "cell_type": "code",
   "execution_count": 177,
   "metadata": {},
   "outputs": [],
   "source": [
    "y=dataset['loan_paid']\n",
    "X=dataset[['int_rate_%']]"
   ]
  },
  {
   "cell_type": "code",
   "execution_count": 178,
   "metadata": {},
   "outputs": [],
   "source": [
    "X_train, X_test, y_train, y_test = train_test_split(X,y,test_size=0.2,shuffle=True)"
   ]
  },
  {
   "cell_type": "markdown",
   "metadata": {},
   "source": [
    "<a name=\"step2-2\"/>\n",
    "\n",
    "# Step 2 Create your model: Train the model"
   ]
  },
  {
   "cell_type": "markdown",
   "metadata": {},
   "source": [
    "[back to top](#top)"
   ]
  },
  {
   "cell_type": "code",
   "execution_count": 179,
   "metadata": {},
   "outputs": [
    {
     "data": {
      "text/plain": [
       "LogisticRegression()"
      ]
     },
     "execution_count": 179,
     "metadata": {},
     "output_type": "execute_result"
    }
   ],
   "source": [
    "lr = LogisticRegression()\n",
    "lr.fit(X_train, y_train)"
   ]
  },
  {
   "cell_type": "markdown",
   "metadata": {},
   "source": [
    "<a name=\"step3-2\"/>\n",
    "\n",
    "# Step 3 Determine the accuracy of your model"
   ]
  },
  {
   "cell_type": "markdown",
   "metadata": {},
   "source": [
    "[back to top](#top)"
   ]
  },
  {
   "cell_type": "code",
   "execution_count": 180,
   "metadata": {},
   "outputs": [
    {
     "data": {
      "text/plain": [
       "{'High_Correlate_roc': 0.8526030228652629,\n",
       " 'High_Correlate_auc': 0.5,\n",
       " 'High_Correlate_auc_prob': 0.6717180569941306,\n",
       " 'Int_rate_roc': 0.8584162252938897}"
      ]
     },
     "execution_count": 180,
     "metadata": {},
     "output_type": "execute_result"
    }
   ],
   "source": [
    "accuracy['Int_rate_roc'] = accuracy_score(y_test, lr.predict(X_test))\n",
    "accuracy"
   ]
  },
  {
   "cell_type": "code",
   "execution_count": 181,
   "metadata": {},
   "outputs": [
    {
     "data": {
      "text/plain": [
       "{'High_Correlate_roc': 0.8526030228652629,\n",
       " 'High_Correlate_auc': 0.5,\n",
       " 'High_Correlate_auc_prob': 0.6717180569941306,\n",
       " 'Int_rate_roc': 0.8584162252938897,\n",
       " 'Int_rate_auc': 0.5003809598347916,\n",
       " 'Int_rate_auc_prob': 0.6431941446562642}"
      ]
     },
     "execution_count": 181,
     "metadata": {},
     "output_type": "execute_result"
    }
   ],
   "source": [
    "accuracy['Int_rate_auc'] = roc_auc_score(y_test, lr.predict(X_test))\n",
    "accuracy['Int_rate_auc_prob'] = roc_auc_score(y_test, lr.predict_proba(X_test)[:, 1])\n",
    "accuracy"
   ]
  },
  {
   "cell_type": "markdown",
   "metadata": {},
   "source": [
    "<a name=\"step4-2\"/>\n",
    "\n",
    "# Step 4 Visualization"
   ]
  },
  {
   "cell_type": "markdown",
   "metadata": {},
   "source": [
    "<a name=\"confusion-2\"/>\n",
    "\n",
    "## Confusion Matrix"
   ]
  },
  {
   "cell_type": "markdown",
   "metadata": {},
   "source": [
    "[back to top](#top)"
   ]
  },
  {
   "cell_type": "code",
   "execution_count": 183,
   "metadata": {},
   "outputs": [
    {
     "data": {
      "text/plain": [
       "array([[   1, 1095],\n",
       "       [   1, 6644]])"
      ]
     },
     "execution_count": 183,
     "metadata": {},
     "output_type": "execute_result"
    }
   ],
   "source": [
    "#Get the confusion matrix\n",
    "cf_matrix=confusion_matrix(y_test, lr.predict(X_test))\n",
    "cf_matrix"
   ]
  },
  {
   "cell_type": "code",
   "execution_count": 184,
   "metadata": {},
   "outputs": [],
   "source": [
    "#source code https://medium.com/@dtuk81/confusion-matrix-visualization-fc31e3f30fea\n",
    "group_names = ['True Neg','False Pos','False Neg','True Pos']\n",
    "group_counts = [\"{0:0.0f}\".format(value) for value in\n",
    "                cf_matrix.flatten()]\n",
    "#group_percentages = [“{0:.2%}”.format(value) for value in cf_matrix.flatten()/np.sum(cf_matrix)]\n",
    "labels = [f\"{v1}\\n{v2}\" for v1, v2 in zip(group_names,group_counts)]"
   ]
  },
  {
   "cell_type": "code",
   "execution_count": 185,
   "metadata": {},
   "outputs": [
    {
     "data": {
      "text/plain": [
       "<AxesSubplot:>"
      ]
     },
     "execution_count": 185,
     "metadata": {},
     "output_type": "execute_result"
    },
    {
     "data": {
      "image/png": "[encoded data removed]",
      "text/plain": [
       "<Figure size 432x288 with 2 Axes>"
      ]
     },
     "metadata": {
      "needs_background": "light"
     },
     "output_type": "display_data"
    }
   ],
   "source": [
    "labels = np.asarray(labels).reshape(2,2)\n",
    "sns.heatmap(cf_matrix, annot=labels, fmt='', cmap='Blues')"
   ]
  },
  {
   "cell_type": "markdown",
   "metadata": {},
   "source": [
    "<a name=\"roc-2\"/>\n",
    "\n",
    "## ROC Receiver Operating Characteristic"
   ]
  },
  {
   "cell_type": "markdown",
   "metadata": {},
   "source": [
    "[back to top](#top)"
   ]
  },
  {
   "cell_type": "code",
   "execution_count": 186,
   "metadata": {},
   "outputs": [],
   "source": [
    "probas = lr.predict_proba(X_test)[:, 1]"
   ]
  },
  {
   "cell_type": "code",
   "execution_count": 187,
   "metadata": {},
   "outputs": [],
   "source": [
    "def get_preds(threshold, probabilities):\n",
    "    return [1 if prob > threshold else 0 for prob in probabilities]"
   ]
  },
  {
   "cell_type": "code",
   "execution_count": 188,
   "metadata": {},
   "outputs": [],
   "source": [
    "roc_values = []\n",
    "for thresh in np.linspace(0, 1, 100):\n",
    "    preds = get_preds(thresh, probas)\n",
    "    tn, fp, fn, tp = confusion_matrix(y_test, preds).ravel()\n",
    "    tpr = tp/(tp+fn)\n",
    "    fpr = fp/(fp+tn)\n",
    "    roc_values.append([tpr, fpr])\n",
    "tpr_values, fpr_values = zip(*roc_values)"
   ]
  },
  {
   "cell_type": "code",
   "execution_count": 189,
   "metadata": {},
   "outputs": [
    {
     "data": {
      "image/png": "[encoded data removed]",
      "text/plain": [
       "<Figure size 720x504 with 1 Axes>"
      ]
     },
     "metadata": {
      "needs_background": "light"
     },
     "output_type": "display_data"
    }
   ],
   "source": [
    "fig, ax = plt.subplots(figsize=(10,7))\n",
    "ax.plot(fpr_values, tpr_values)\n",
    "ax.plot(np.linspace(0, 1, 100),\n",
    "         np.linspace(0, 1, 100),\n",
    "         label='baseline',\n",
    "         linestyle='--')\n",
    "plt.title('Receiver Operating Characteristic Curve', fontsize=18)\n",
    "plt.ylabel('True Positive Rate', fontsize=16)\n",
    "plt.xlabel('False Positive Rate', fontsize=16)\n",
    "plt.legend(fontsize=12);"
   ]
  },
  {
   "cell_type": "markdown",
   "metadata": {},
   "source": [
    "\n",
    "<a name=\"int_loan\"/>\n",
    "\n",
    "# 3.0 int rate % and loan grade"
   ]
  },
  {
   "cell_type": "markdown",
   "metadata": {},
   "source": [
    "<a name=\"step1-3\"/>\n",
    "\n",
    "# Step 1 Prepare your data"
   ]
  },
  {
   "cell_type": "markdown",
   "metadata": {},
   "source": [
    "[back to top](#top)"
   ]
  },
  {
   "cell_type": "code",
   "execution_count": 190,
   "metadata": {},
   "outputs": [],
   "source": [
    "y=dataset['loan_paid']\n",
    "X=dataset[['int_rate_%','loan_grade']]"
   ]
  },
  {
   "cell_type": "code",
   "execution_count": 191,
   "metadata": {},
   "outputs": [],
   "source": [
    "X_train, X_test, y_train, y_test = train_test_split(X,y,test_size=0.2,shuffle=True)"
   ]
  },
  {
   "cell_type": "markdown",
   "metadata": {},
   "source": [
    "<a name=\"step2-3\"/>\n",
    "\n",
    "# Step 2 Create your model: Train the model"
   ]
  },
  {
   "cell_type": "markdown",
   "metadata": {},
   "source": [
    "[back to top](#top)"
   ]
  },
  {
   "cell_type": "code",
   "execution_count": 192,
   "metadata": {},
   "outputs": [
    {
     "data": {
      "text/plain": [
       "LogisticRegression()"
      ]
     },
     "execution_count": 192,
     "metadata": {},
     "output_type": "execute_result"
    }
   ],
   "source": [
    "lr = LogisticRegression()\n",
    "lr.fit(X_train, y_train)"
   ]
  },
  {
   "cell_type": "markdown",
   "metadata": {},
   "source": [
    "<a name=\"step3-3\"/>\n",
    "\n",
    "# Step 3 Determine the accuracy of your model"
   ]
  },
  {
   "cell_type": "markdown",
   "metadata": {},
   "source": [
    "[back to top](#top)"
   ]
  },
  {
   "cell_type": "code",
   "execution_count": 193,
   "metadata": {},
   "outputs": [
    {
     "data": {
      "text/plain": [
       "{'High_Correlate_roc': 0.8526030228652629,\n",
       " 'High_Correlate_auc': 0.5,\n",
       " 'High_Correlate_auc_prob': 0.6717180569941306,\n",
       " 'Int_rate_roc': 0.8584162252938897,\n",
       " 'Int_rate_auc': 0.5003809598347916,\n",
       " 'Int_rate_auc_prob': 0.6431941446562642,\n",
       " 'Int_rate_grade_roc': 0.8562201265986307}"
      ]
     },
     "execution_count": 193,
     "metadata": {},
     "output_type": "execute_result"
    }
   ],
   "source": [
    "accuracy['Int_rate_grade_roc'] = accuracy_score(y_test, lr.predict(X_test))\n",
    "accuracy"
   ]
  },
  {
   "cell_type": "code",
   "execution_count": 194,
   "metadata": {},
   "outputs": [
    {
     "data": {
      "text/plain": [
       "{'High_Correlate_roc': 0.8526030228652629,\n",
       " 'High_Correlate_auc': 0.5,\n",
       " 'High_Correlate_auc_prob': 0.6717180569941306,\n",
       " 'Int_rate_roc': 0.8584162252938897,\n",
       " 'Int_rate_auc': 0.5003809598347916,\n",
       " 'Int_rate_auc_prob': 0.6431941446562642,\n",
       " 'Int_rate_grade_roc': 0.8562201265986307,\n",
       " 'Int_rate_grade_auc': 0.5,\n",
       " 'Int_rate__grade_auc_prob': 0.6668411964596818}"
      ]
     },
     "execution_count": 194,
     "metadata": {},
     "output_type": "execute_result"
    }
   ],
   "source": [
    "accuracy['Int_rate_grade_auc'] = roc_auc_score(y_test, lr.predict(X_test))\n",
    "accuracy['Int_rate__grade_auc_prob'] = roc_auc_score(y_test, lr.predict_proba(X_test)[:, 1])\n",
    "accuracy"
   ]
  },
  {
   "cell_type": "code",
   "execution_count": null,
   "metadata": {},
   "outputs": [],
   "source": []
  },
  {
   "cell_type": "markdown",
   "metadata": {},
   "source": [
    "----"
   ]
  }
 ],
 "metadata": {
  "kernelspec": {
   "display_name": "Python 3 (ipykernel)",
   "language": "python",
   "name": "python3"
  },
  "language_info": {
   "codemirror_mode": {
    "name": "ipython",
    "version": 3
   },
   "file_extension": ".py",
   "mimetype": "text/x-python",
   "name": "python",
   "nbconvert_exporter": "python",
   "pygments_lexer": "ipython3",
   "version": "3.9.7"
  }
 },
 "nbformat": 4,
 "nbformat_minor": 4
}
